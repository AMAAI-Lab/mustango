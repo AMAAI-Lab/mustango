{
 "cells": [
  {
   "cell_type": "code",
   "execution_count": 26,
   "id": "5d908ca0-b43b-4774-9b63-9b523cd5c2b6",
   "metadata": {
    "tags": []
   },
   "outputs": [],
   "source": [
    "import json\n",
    "import numpy as np\n",
    "import pandas as pd"
   ]
  },
  {
   "cell_type": "code",
   "execution_count": 39,
   "id": "63ad7c4b-85d3-4d30-9d0c-9ba893db3cf0",
   "metadata": {
    "tags": []
   },
   "outputs": [],
   "source": [
    "def modify(data, preds):\n",
    "    new_data = []\n",
    "    for k, instance in enumerate(preds):\n",
    "        x, y = instance[\"beats\"][0], instance[\"beats\"][1]\n",
    "        new_labels, new_times = [], []\n",
    "        for l, t in zip(x, y):\n",
    "            if t < 10:\n",
    "                new_labels.append(l)\n",
    "                new_times.append(t)\n",
    "            else:\n",
    "                break\n",
    "\n",
    "        new_labels = np.array(new_labels).astype(\"float32\") + 1\n",
    "        new_times = np.array(new_times)\n",
    "        sorted_indices = np.argsort(new_times)\n",
    "        new_labels = new_labels[sorted_indices].tolist()\n",
    "        new_times = new_times[sorted_indices].tolist()\n",
    "        line = data[k]\n",
    "        line[\"beats_predicted\"] = [new_times, new_labels]\n",
    "        new_data.append(line)\n",
    "        \n",
    "    return new_data"
   ]
  },
  {
   "cell_type": "code",
   "execution_count": 40,
   "id": "98f89410-18d9-4d46-8374-8143243ba3a3",
   "metadata": {
    "tags": []
   },
   "outputs": [],
   "source": [
    "val_data = [json.loads(line) for line in open(\"data/100eval_combined_chatgpt_aug4.json\").readlines()]\n",
    "val_preds = [json.loads(line) for line in open(\"saved/beats-model/1687193940/val_preds_epoch_8.json\").readlines()]\n",
    "\n",
    "test_data = [json.loads(line) for line in open(\"data/100test_musiccaps_ep4.json\").readlines()]\n",
    "test_preds = [json.loads(line) for line in open(\"saved/beats-model/1687193940/test_preds_epoch_8.json\").readlines()]"
   ]
  },
  {
   "cell_type": "code",
   "execution_count": 41,
   "id": "b8a3587f-84b5-453f-9ece-65426dfb555a",
   "metadata": {
    "tags": []
   },
   "outputs": [],
   "source": [
    "val_new_preds = modify(val_data, val_preds)\n",
    "test_new_preds = modify(test_data, test_preds)"
   ]
  },
  {
   "cell_type": "code",
   "execution_count": 42,
   "id": "6da19a65-7289-4955-877d-4a4df2a23dd0",
   "metadata": {
    "tags": []
   },
   "outputs": [],
   "source": [
    "with open(\"results/beats-model/1687193940_eval_preds.json\", \"w\") as f:\n",
    "    for line in val_new_preds:\n",
    "        f.write(json.dumps(line) + \"\\n\")\n",
    "        \n",
    "with open(\"results/beats-model/1687193940_test_preds.json\", \"w\") as f:\n",
    "    for line in test_new_preds:\n",
    "        f.write(json.dumps(line) + \"\\n\")"
   ]
  },
  {
   "cell_type": "code",
   "execution_count": null,
   "id": "a25916b3-6406-45f8-a37e-aa208c8cae61",
   "metadata": {},
   "outputs": [],
   "source": []
  }
 ],
 "metadata": {
  "kernelspec": {
   "display_name": "csk",
   "language": "python",
   "name": "csk"
  },
  "language_info": {
   "codemirror_mode": {
    "name": "ipython",
    "version": 3
   },
   "file_extension": ".py",
   "mimetype": "text/x-python",
   "name": "python",
   "nbconvert_exporter": "python",
   "pygments_lexer": "ipython3",
   "version": "3.9.7"
  }
 },
 "nbformat": 4,
 "nbformat_minor": 5
}
